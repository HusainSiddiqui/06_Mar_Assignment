{
 "cells": [
  {
   "cell_type": "markdown",
   "metadata": {},
   "source": [
    "Q1. What is Statistics?"
   ]
  },
  {
   "cell_type": "markdown",
   "metadata": {},
   "source": [
    "Statistics is the branch of mathematics that deals with the collection, analysis, interpretation, presentation, and organization of data."
   ]
  },
  {
   "cell_type": "markdown",
   "metadata": {},
   "source": [
    "Q2. Define the different types of statistics and give an example of when each type might be used."
   ]
  },
  {
   "cell_type": "markdown",
   "metadata": {},
   "source": [
    "There are two main types of statistics: \n",
    "1. Descriptive statistics \n",
    "2. Inferential statistics\n",
    "\n",
    "Descriptive statistics\n",
    "This type of statistics is used to describe and summarize a dataset. It includes measures of central tendency, such as mean, median, and mode, as well as measures of variability, such as range, variance, and standard deviation. For example, a researcher might use descriptive statistics to summarize the ages of a group of participants in a study by calculating the mean age, the median age, and the standard deviation.\n",
    "\n",
    "Inferential statistics\n",
    "This type of statistics is used to make inferences or predictions about a population based on a sample of data. It includes hypothesis testing and estimation. For example, a company might use inferential statistics to test whether a new product has a higher sales conversion rate than an existing product. They would collect a sample of data on the sales of both products and use inferential statistics to determine whether the difference in conversion rates between the two products is statistically significant."
   ]
  },
  {
   "cell_type": "markdown",
   "metadata": {},
   "source": [
    "Q3. What are the different types of data and how do they differ from each other? Provide an example of\n",
    "each type of data."
   ]
  },
  {
   "cell_type": "markdown",
   "metadata": {},
   "source": [
    "Quantitative and qualitative are two broad categories of data types.\n",
    "\n",
    "Quantitative data is numerical data that can be measured or counted. It is used to represent numerical values or quantities that can be expressed mathematically. Examples of quantitative data include height, weight, temperature, income, and the number of hours worked per week.\n",
    "        Quantitative data is analyzed using statistical methods\n",
    "        \n",
    "quantitative data can be further classified into \n",
    "1. Discrete: Discrete data can only take certain values (such as the number of siblings) \n",
    "2. Continuous data: Continuous data can take any value within a range (such as height or weight).\n",
    "\n",
    "Qualitative data is non-numerical data that represents characteristics or qualities of something. It is used to represent qualities or attributes that cannot be expressed mathematically. Examples of qualitative data include color, shape, texture, taste, and smell.\n",
    "        Qualitative data is generally analyzed using techniques such as content analysis"
   ]
  },
  {
   "cell_type": "markdown",
   "metadata": {},
   "source": []
  },
  {
   "cell_type": "markdown",
   "metadata": {},
   "source": [
    "Q4. Categorise the following datasets with respect to quantitative and qualitative data types:\n",
    "    (i) Grading in exam: A+, A, B+, B, C+, C, D, E\n",
    "    (ii) Colour of mangoes: yellow, green, orange, red\n",
    "    (iii) Height data of a class: [178.9, 179, 179.5, 176, 177.2, 178.3, 175.8,...]\n",
    "    (iv) Number of mangoes exported by a farm: [500, 600, 478, 672, ...]"
   ]
  },
  {
   "cell_type": "markdown",
   "metadata": {},
   "source": [
    "(i) Qualitative data\n",
    "(ii) Qualitative data\n",
    "(iii) Quantitative data (continuous)\n",
    "(iv) Quantitative data (discrete)"
   ]
  },
  {
   "cell_type": "markdown",
   "metadata": {},
   "source": []
  },
  {
   "cell_type": "markdown",
   "metadata": {},
   "source": [
    "Q5. Explain the concept of levels of measurement and give an example of a variable for each level."
   ]
  },
  {
   "cell_type": "markdown",
   "metadata": {},
   "source": [
    "Data level of measurement, also known as data scale, refers to the mathematical properties of data and the ways in which it can be measured. \n",
    "There are four main levels of measurement:\n",
    "1. Nominal\n",
    "2. Ordinal\n",
    "3. Interval\n",
    "4. Ratio.\n",
    "\n",
    "Nominal level: Data are in categories without any order or ranking. Examples include colors, gender, and types of cars.\n",
    "\n",
    "Ordinal level: Data are in categories that can be ranked or ordered, but the differences between them are not necessarily equal or meaningful. Examples include letter grades (A, B, C), levels of satisfaction (very satisfied, satisfied, dissatisfied, very dissatisfied), and stages of cancer (Stage 1, Stage 2, Stage 3).\n",
    "\n",
    "Interval level: Data have a specific order and the differences between them are equal and meaningful, but there is no true zero point. Examples include temperature in Celsius or Fahrenheit, dates, and time.\n",
    "\n",
    "Ratio level: Data have a specific order, the differences between them are equal and meaningful, and there is a true zero point. Examples include weight, height, age, and income."
   ]
  },
  {
   "cell_type": "code",
   "execution_count": null,
   "metadata": {},
   "outputs": [],
   "source": []
  },
  {
   "cell_type": "markdown",
   "metadata": {},
   "source": [
    "Q6. Why is it important to understand the level of measurement when analyzing data? Provide an example to illustrate your answer."
   ]
  },
  {
   "cell_type": "markdown",
   "metadata": {},
   "source": [
    "Understanding the level of measurement is important when analyzing data because it determines which statistical tests and measures are appropriate to use. Different levels of measurement require different types of analysis, and using an inappropriate analysis can lead to incorrect conclusions.\n",
    "\n",
    "For example, consider a dataset of income levels. If the income levels are measured using nominal data, it is not appropriate to calculate the mean income, as this would not provide meaningful information. Instead, the appropriate measures would be frequency tables or mode. \n",
    "        On the other hand, if the income levels are measured using ratio data, calculating the mean income would be meaningful, and additional measures such as standard deviation and correlation could be used to gain further insights.\n",
    "\n",
    "Thus, understanding the level of measurement helps in selecting the correct statistical tools and analysis techniques for the dataset at hand, ultimately leading to accurate and meaningful conclusions."
   ]
  },
  {
   "cell_type": "markdown",
   "metadata": {},
   "source": [
    "Q7. How nominal data type is different from ordinal data type."
   ]
  },
  {
   "cell_type": "markdown",
   "metadata": {},
   "source": [
    "|Nominal Data|Ordinal Data|\n",
    "|---|---|\n",
    "|Represents categorical data that cannot be ordered or ranked|Represents categorical data that can be ordered or ranked|\n",
    "|Only allows for the calculation of frequency and mode|Allows for the calculation of frequency, mode, median, and percentile|\n",
    "|Examples: gender, marital status, race|Examples: educational level, income level, satisfaction level|"
   ]
  },
  {
   "cell_type": "markdown",
   "metadata": {},
   "source": [
    "Q8. Which type of plot can be used to display data in terms of range?\n"
   ]
  },
  {
   "cell_type": "markdown",
   "metadata": {},
   "source": [
    "A box plot can be used to display data in terms of range."
   ]
  },
  {
   "cell_type": "code",
   "execution_count": null,
   "metadata": {},
   "outputs": [],
   "source": []
  },
  {
   "cell_type": "markdown",
   "metadata": {},
   "source": [
    "Q9. Describe the difference between descriptive and inferential statistics. Give an example of each\n",
    "type of statistics and explain how they are used."
   ]
  },
  {
   "cell_type": "markdown",
   "metadata": {},
   "source": [
    "|..|Descriptive Statistics|Inferential Statistics|\n",
    "|---|---|---|\n",
    "|Definition|Describes the characteristics of the data without making any generalization or conclusion about a population|Involves drawing conclusions or making inferences about a population based on sample data\n",
    "|Example|Mean, median, mode, range, variance, standard deviation|Hypothesis testing, confidence intervals, regression analysis|\n",
    "|Use|Used to summarize and describe the characteristics of a sample or population|Used to make predictions or generalizations about a population based on a sample|\n",
    "|Goal|To provide insights and understanding of the data|To make conclusions or predictions about a population based on a sample|\n",
    "|Population|No population is involved|Population is involved|\n",
    "|Data|Entire data is used|Only a sample of the data is used|\n",
    "|Bias|No bias is involved|Bias can be involved if the sample is not representative of the population|"
   ]
  },
  {
   "cell_type": "markdown",
   "metadata": {},
   "source": [
    "Q10. What are some common measures of central tendency and variability used in statistics? Explain\n",
    "how each measure can be used to describe a dataset."
   ]
  },
  {
   "cell_type": "markdown",
   "metadata": {},
   "source": [
    "Measures of central tendency and variability are important tools used in statistics to summarize and describe datasets. Here are some common measures of central tendency and variability:\n",
    "\n",
    "    Mean: The mean is the sum of all values in a dataset divided by the number of observations. It is a common measure of central tendency that represents the average value of the dataset. The mean can be affected by outliers and extreme values in the dataset.\n",
    "\n",
    "    Median: The median is the middle value in a dataset. It is a robust measure of central tendency that is less affected by outliers than the mean. The median is calculated by sorting the values in the dataset and selecting the middle value.\n",
    "\n",
    "    Mode: The mode is the most common value in a dataset. It is a measure of central tendency that is useful for identifying the most frequent value in the dataset. A dataset can have multiple modes.\n",
    "\n",
    "    Range: The range is the difference between the highest and lowest values in a dataset. It is a measure of variability that describes the spread of the data.\n",
    "\n",
    "    Variance: The variance is a measure of variability that describes how much the data deviates from the mean. It is calculated by taking the sum of the squared deviations from the mean and dividing by the number of observations.\n",
    "\n",
    "    Standard deviation: The standard deviation is the square root of the variance. It is a common measure of variability that is useful for describing the spread of the data around the mean.\n",
    "\n",
    "Each of these measures can be used to describe different aspects of a dataset. For example, the mean and median can provide information about the central tendency of the data, while the range, variance, and standard deviation can provide information about the variability or spread of the data. Understanding these measures can help in making informed decisions about the data and in drawing valid conclusions from statistical analyses."
   ]
  },
  {
   "cell_type": "code",
   "execution_count": null,
   "metadata": {},
   "outputs": [],
   "source": []
  }
 ],
 "metadata": {
  "kernelspec": {
   "display_name": "Python 3",
   "language": "python",
   "name": "python3"
  },
  "language_info": {
   "codemirror_mode": {
    "name": "ipython",
    "version": 3
   },
   "file_extension": ".py",
   "mimetype": "text/x-python",
   "name": "python",
   "nbconvert_exporter": "python",
   "pygments_lexer": "ipython3",
   "version": "3.6.5"
  }
 },
 "nbformat": 4,
 "nbformat_minor": 2
}
